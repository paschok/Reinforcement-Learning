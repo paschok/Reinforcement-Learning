{
  "nbformat": 4,
  "nbformat_minor": 0,
  "metadata": {
    "colab": {
      "name": "Deep Q Learning | Atari Space Invaders 2006.ipynb",
      "provenance": [],
      "toc_visible": true
    },
    "kernelspec": {
      "name": "python3",
      "display_name": "Python 3"
    },
    "accelerator": "GPU"
  },
  "cells": [
    {
      "cell_type": "markdown",
      "metadata": {
        "id": "J_uiz0Fs4xyV"
      },
      "source": [
        "### All needed imports\n",
        "\n",
        "Follow [this link](https://github.com/openai/retro/issues/53) to see the walkthrough if you cannot load your environment, The follow 5 cell-commands are needed specifically for that\n"
      ]
    },
    {
      "cell_type": "code",
      "metadata": {
        "id": "k3bEGKlj8NNo"
      },
      "source": [
        "!unrar e /content/Roms.rar"
      ],
      "execution_count": null,
      "outputs": []
    },
    {
      "cell_type": "code",
      "metadata": {
        "id": "I9r-R2klAz-N"
      },
      "source": [
        "!unzip 'HC ROMS.zip'"
      ],
      "execution_count": null,
      "outputs": []
    },
    {
      "cell_type": "code",
      "metadata": {
        "id": "sUm7e-Qz8wk-"
      },
      "source": [
        "!unzip ROMS.zip"
      ],
      "execution_count": null,
      "outputs": []
    },
    {
      "cell_type": "code",
      "metadata": {
        "colab": {
          "base_uri": "https://localhost:8080/"
        },
        "id": "PEhxeNhsQceH",
        "outputId": "462f9c24-ddac-4273-b631-fed344c0a790"
      },
      "source": [
        "!pip3 install gym-retro"
      ],
      "execution_count": 4,
      "outputs": [
        {
          "output_type": "stream",
          "text": [
            "Collecting gym-retro\n",
            "\u001b[?25l  Downloading https://files.pythonhosted.org/packages/cd/3d/eb88732eec7bdc13a605c1ba655b34f911af36b894b8c1c377dabb0547f4/gym_retro-0.8.0-cp36-cp36m-manylinux1_x86_64.whl (162.0MB)\n",
            "\u001b[K     |████████████████████████████████| 162.0MB 85kB/s \n",
            "\u001b[?25hRequirement already satisfied: gym in /usr/local/lib/python3.6/dist-packages (from gym-retro) (0.17.3)\n",
            "Requirement already satisfied: pyglet==1.*,>=1.3.2 in /usr/local/lib/python3.6/dist-packages (from gym-retro) (1.5.0)\n",
            "Requirement already satisfied: scipy in /usr/local/lib/python3.6/dist-packages (from gym->gym-retro) (1.4.1)\n",
            "Requirement already satisfied: cloudpickle<1.7.0,>=1.2.0 in /usr/local/lib/python3.6/dist-packages (from gym->gym-retro) (1.3.0)\n",
            "Requirement already satisfied: numpy>=1.10.4 in /usr/local/lib/python3.6/dist-packages (from gym->gym-retro) (1.19.5)\n",
            "Requirement already satisfied: future in /usr/local/lib/python3.6/dist-packages (from pyglet==1.*,>=1.3.2->gym-retro) (0.16.0)\n",
            "Installing collected packages: gym-retro\n",
            "Successfully installed gym-retro-0.8.0\n"
          ],
          "name": "stdout"
        }
      ]
    },
    {
      "cell_type": "code",
      "metadata": {
        "id": "ugFx6L4b9nxD"
      },
      "source": [
        "!cd /content/atari"
      ],
      "execution_count": 1,
      "outputs": []
    },
    {
      "cell_type": "code",
      "metadata": {
        "id": "ALD4GMFu8MLx",
        "colab": {
          "base_uri": "https://localhost:8080/"
        },
        "outputId": "f0683da8-d08a-4a56-ab56-33c3e9eef568"
      },
      "source": [
        "!python -m retro.import ."
      ],
      "execution_count": 2,
      "outputs": [
        {
          "output_type": "stream",
          "text": [
            "Importing SpaceInvaders-Atari2600\n",
            "Imported 1 games\n"
          ],
          "name": "stdout"
        }
      ]
    },
    {
      "cell_type": "markdown",
      "metadata": {
        "id": "s9Ms_orPPvfv"
      },
      "source": [
        "#### The model built uses TF version 1"
      ]
    },
    {
      "cell_type": "code",
      "metadata": {
        "colab": {
          "base_uri": "https://localhost:8080/"
        },
        "id": "FxSQfehIMs-j",
        "outputId": "d18dbbee-89ec-4847-b2f7-dd9fe79e676d"
      },
      "source": [
        "%tensorflow_version 1.x"
      ],
      "execution_count": 3,
      "outputs": [
        {
          "output_type": "stream",
          "text": [
            "TensorFlow 1.x selected.\n"
          ],
          "name": "stdout"
        }
      ]
    },
    {
      "cell_type": "code",
      "metadata": {
        "id": "Jrw_C7Fe4Z7N"
      },
      "source": [
        "import tensorflow as tf      \n",
        "import numpy as np   \n",
        "\n",
        "# Atari Environment\n",
        "import retro      \n",
        "\n",
        "import random                \n",
        "import time                  \n",
        "\n",
        "# For frame preprocesssing\n",
        "from skimage import transform \n",
        "from skimage.color import rgb2gray\n",
        "\n",
        "# Ordered collection with ends\n",
        "from collections import deque\n",
        "\n",
        "import matplotlib.pyplot as plt \n",
        "%matplotlib inline\n",
        "\n",
        "import warnings # This ignore all the warning messages that are normally printed during the training because of skiimage\n",
        "warnings.filterwarnings('ignore')"
      ],
      "execution_count": 4,
      "outputs": []
    },
    {
      "cell_type": "code",
      "metadata": {
        "colab": {
          "base_uri": "https://localhost:8080/",
          "height": 37
        },
        "id": "OiQlRuJTMSZH",
        "outputId": "f7842bd5-06c9-41a3-a9da-6c1297df9b31"
      },
      "source": [
        "tf.__version__"
      ],
      "execution_count": 5,
      "outputs": [
        {
          "output_type": "execute_result",
          "data": {
            "application/vnd.google.colaboratory.intrinsic+json": {
              "type": "string"
            },
            "text/plain": [
              "'1.15.2'"
            ]
          },
          "metadata": {
            "tags": []
          },
          "execution_count": 5
        }
      ]
    },
    {
      "cell_type": "code",
      "metadata": {
        "colab": {
          "base_uri": "https://localhost:8080/"
        },
        "id": "yGeO80U-4nqD",
        "outputId": "8ef874d6-3503-494b-b41a-eba15bef9bc0"
      },
      "source": [
        "# Creating the environment\n",
        "env = retro.make(game='SpaceInvaders-Atari2600')\n",
        "\n",
        "print(\"The size of the frame is: \", env.observation_space)\n",
        "print(\"The action size is : \", env.action_space.n)\n",
        "\n",
        "# Here we create  one-hot encoded version of the actions\n",
        "# possible_actions = [[1, 0, 0, 0, 0, 0, 0, 0], [0, 1, 0, 0, 0, 0, 0, 0, 0]...]\n",
        "possible_actions = np.array(np.identity(env.action_space.n,dtype=int).tolist())"
      ],
      "execution_count": 6,
      "outputs": [
        {
          "output_type": "stream",
          "text": [
            "The size of the frame is:  Box(0, 255, (210, 160, 3), uint8)\n",
            "The action size is :  8\n"
          ],
          "name": "stdout"
        }
      ]
    },
    {
      "cell_type": "markdown",
      "metadata": {
        "id": "ZoUPMAwDIAL6"
      },
      "source": [
        "### Preprocessing(reducing complexity of the states to reduce the computation time needed for training)\n",
        "\n",
        "  - Grayscale each of our frames, since color does not add important information\n",
        "  - Croping the screen (in this case removing the part below the player because it does not add any useful information)\n",
        "  - Normalizing pixel values\n",
        "  - Resizing the preprocessed frame"
      ]
    },
    {
      "cell_type": "code",
      "metadata": {
        "id": "EeGjkyUJ4nvS"
      },
      "source": [
        "\"\"\"\n",
        "    preprocess_frame:\n",
        "    Take a frame.\n",
        "    Grayscale it\n",
        "    Resize it.\n",
        "        __________________\n",
        "        |                 |\n",
        "        |                 |\n",
        "        |                 |\n",
        "        |                 |\n",
        "        |_________________|\n",
        "        \n",
        "        to\n",
        "        _____________\n",
        "        |            |\n",
        "        |            |\n",
        "        |            |\n",
        "        |____________|\n",
        "    Normalize it.\n",
        "    \n",
        "    return preprocessed_frame\n",
        "    \n",
        "    \"\"\"\n",
        "def preprocess_frame(frame):\n",
        "    # Greyscale frame \n",
        "    gray = rgb2gray(frame)\n",
        "    \n",
        "    # Crop the screen (remove the part below the player)\n",
        "    # [Up: Down, Left: right]\n",
        "    cropped_frame = gray[8:-12,4:-12]\n",
        "    \n",
        "    # Normalize Pixel Values\n",
        "    normalized_frame = cropped_frame/255.0\n",
        "    \n",
        "    # Resizigg\n",
        "    preprocessed_frame = transform.resize(normalized_frame, [110,84])\n",
        "    \n",
        "    # 110x84x1 frame\n",
        "    return preprocessed_frame "
      ],
      "execution_count": 7,
      "outputs": []
    },
    {
      "cell_type": "markdown",
      "metadata": {
        "id": "1ccK0jgBIyXU"
      },
      "source": [
        "### Stacking Frames - it helps us to give have a sense of motion to the Neural Network.\n",
        "\n",
        "We skip 4 frames at each timestep. This means that only every fourth frame is considered. And then, we use this frame to form the stack_frame.\n",
        "\n",
        "The frame skipping method is already implemented in the library.\n",
        "  - First, preprocess frame\n",
        "  - Then append the frame to the deque that automatically removes the oldest frame\n",
        "  - Finally, build the stacked state\n",
        "\n",
        "If we're done, we create a new stack with 4 new frames (because we are in a new episode)."
      ]
    },
    {
      "cell_type": "code",
      "metadata": {
        "id": "DqXfvNHQ4n0T"
      },
      "source": [
        "# 4 frames stack\n",
        "stack_size = 4 \n",
        "\n",
        "# Initialize deque with zero-images one array for each image\n",
        "stacked_frames  =  deque([np.zeros((110,84), dtype=np.int) for i in range(stack_size)], maxlen=4)\n",
        "\n",
        "def stack_frames(stacked_frames, state, is_new_episode):\n",
        "    # Preprocess frame\n",
        "    frame = preprocess_frame(state)\n",
        "    \n",
        "    if is_new_episode:\n",
        "        # Clear our stacked_frames\n",
        "        stacked_frames = deque([np.zeros((110,84), dtype=np.int) for i in range(stack_size)], maxlen=4)\n",
        "        \n",
        "        # Because we're in a new episode, copy the same frame 4x\n",
        "        stacked_frames.append(frame)\n",
        "        stacked_frames.append(frame)\n",
        "        stacked_frames.append(frame)\n",
        "        stacked_frames.append(frame)\n",
        "        \n",
        "        # Stack the frames\n",
        "        stacked_state = np.stack(stacked_frames, axis=2)\n",
        "        \n",
        "    else:\n",
        "        # Append frame to deque, automatically removes the oldest frame\n",
        "        stacked_frames.append(frame)\n",
        "\n",
        "        # Build the stacked state (first dimension specifies different frames)\n",
        "        stacked_state = np.stack(stacked_frames, axis=2) \n",
        "    \n",
        "    return stacked_state, stacked_frames"
      ],
      "execution_count": 8,
      "outputs": []
    },
    {
      "cell_type": "markdown",
      "metadata": {
        "id": "4cimqDUh4w96"
      },
      "source": [
        "### Hyperparameters"
      ]
    },
    {
      "cell_type": "code",
      "metadata": {
        "id": "Er9Wo3SxJ6YA"
      },
      "source": [
        "### MODEL HYPERPARAMETERS\n",
        "state_size = [110, 84, 4]         # The input is a stack of 4 frames hence 110x84x4 (Width, height, channels) \n",
        "action_size = env.action_space.n  # 8 possible actions\n",
        "learning_rate =  0.00025          \n",
        "\n",
        "### TRAINING HYPERPARAMETERS\n",
        "total_episodes = 50               # Total episodes for training\n",
        "max_steps = 40000                 # Max possible steps in an episode\n",
        "batch_size = 64                \n",
        "\n",
        "# Exploration parameters for epsilon greedy strategy\n",
        "explore_start = 1.0               # exploration probability at start\n",
        "explore_stop = 0.01               # minimum exploration probability \n",
        "decay_rate = 0.00001              # exponential decay rate for exploration prob\n",
        "\n",
        "# Q learning hyperparameters\n",
        "gamma = 0.9                       # Discounting rate\n",
        "\n",
        "### MEMORY HYPERPARAMETERS\n",
        "pretrain_length = batch_size      # Number of experiences stored in the Memory when initialized for the first time\n",
        "memory_size = 1000000             # Number of experiences the Memory can keep\n",
        "\n",
        "### PREPROCESSING HYPERPARAMETERS\n",
        "stack_size = 4                    # Number of frames stacked\n",
        "\n",
        "### MODIFY THIS TO FALSE IF YOU JUST WANT TO SEE THE TRAINED AGENT\n",
        "training = True\n",
        "\n",
        "## TURN THIS TO TRUE IF YOU WANT TO RENDER THE ENVIRONMENT\n",
        "episode_render = False"
      ],
      "execution_count": 9,
      "outputs": []
    },
    {
      "cell_type": "markdown",
      "metadata": {
        "id": "AMIKuAAdKWIX"
      },
      "source": [
        "### Deep Q Learning Model\n",
        "\n",
        "  - Stack of 4 frames as input that is passed through 3 convnets and the gets flatened\n",
        "  - Finally it passes through 2 FC layers\n",
        "  - Outputing a Q value for each actions"
      ]
    },
    {
      "cell_type": "code",
      "metadata": {
        "id": "zPZvR1AmJ6c8"
      },
      "source": [
        "class DQNetwork:\n",
        "    def __init__(self, state_size, action_size, learning_rate, name='DQNetwork'):\n",
        "        self.state_size = state_size\n",
        "        self.action_size = action_size\n",
        "        self.learning_rate = learning_rate\n",
        "        \n",
        "        with tf.variable_scope(name):\n",
        "            # We create the placeholders\n",
        "            # *state_size means that we take each elements of state_size in tuple hence is like if we wrote\n",
        "            # [None, 84, 84, 4]\n",
        "            self.inputs_ = tf.placeholder(tf.float32, [None, *state_size], name=\"inputs\")\n",
        "            self.actions_ = tf.placeholder(tf.float32, [None, self.action_size], name=\"actions_\")\n",
        "            \n",
        "            # Remember that target_Q is the R(s,a) + ymax Qhat(s', a')\n",
        "            self.target_Q = tf.placeholder(tf.float32, [None], name=\"target\")\n",
        "            \n",
        "            \"\"\"\n",
        "            First convnet:\n",
        "            CNN\n",
        "            ELU\n",
        "            \"\"\"\n",
        "            # Input is 110x84x4\n",
        "            self.conv1 = tf.layers.conv2d(inputs = self.inputs_,\n",
        "                                         filters = 32,\n",
        "                                         kernel_size = [8,8],\n",
        "                                         strides = [4,4],\n",
        "                                         padding = \"VALID\",\n",
        "                                          kernel_initializer=tf.contrib.layers.xavier_initializer_conv2d(),\n",
        "                                         name = \"conv1\")\n",
        "            \n",
        "            self.conv1_out = tf.nn.elu(self.conv1, name=\"conv1_out\")\n",
        "            \n",
        "            \"\"\"\n",
        "            Second convnet:\n",
        "            CNN\n",
        "            ELU\n",
        "            \"\"\"\n",
        "            self.conv2 = tf.layers.conv2d(inputs = self.conv1_out,\n",
        "                                 filters = 64,\n",
        "                                 kernel_size = [4,4],\n",
        "                                 strides = [2,2],\n",
        "                                 padding = \"VALID\",\n",
        "                                kernel_initializer=tf.contrib.layers.xavier_initializer_conv2d(),\n",
        "                                 name = \"conv2\")\n",
        "\n",
        "            self.conv2_out = tf.nn.elu(self.conv2, name=\"conv2_out\")            \n",
        "            \n",
        "            \"\"\"\n",
        "            Third convnet:\n",
        "            CNN\n",
        "            ELU\n",
        "            \"\"\"\n",
        "            self.conv3 = tf.layers.conv2d(inputs = self.conv2_out,\n",
        "                                 filters = 64,\n",
        "                                 kernel_size = [3,3],\n",
        "                                 strides = [2,2],\n",
        "                                 padding = \"VALID\",\n",
        "                                kernel_initializer=tf.contrib.layers.xavier_initializer_conv2d(),\n",
        "                                 name = \"conv3\")\n",
        "\n",
        "            self.conv3_out = tf.nn.elu(self.conv3, name=\"conv3_out\")\n",
        "            \n",
        "            self.flatten = tf.contrib.layers.flatten(self.conv3_out)\n",
        "            \n",
        "            self.fc = tf.layers.dense(inputs = self.flatten,\n",
        "                                  units = 512,\n",
        "                                  activation = tf.nn.elu,\n",
        "                                       kernel_initializer=tf.contrib.layers.xavier_initializer(),\n",
        "                                name=\"fc1\")\n",
        "            \n",
        "            self.output = tf.layers.dense(inputs = self.fc, \n",
        "                                           kernel_initializer=tf.contrib.layers.xavier_initializer(),\n",
        "                                          units = self.action_size, \n",
        "                                        activation=None)\n",
        "            \n",
        "\n",
        "  \n",
        "            # Q is the predicted Q value.\n",
        "            self.Q = tf.reduce_sum(tf.multiply(self.output, self.actions_))\n",
        "            \n",
        "            # The loss is the difference between our predicted Q_values and the Q_target\n",
        "            # Sum(Qtarget - Q)^2\n",
        "            self.loss = tf.reduce_mean(tf.square(self.target_Q - self.Q))\n",
        "            \n",
        "            self.optimizer = tf.train.AdamOptimizer(self.learning_rate).minimize(self.loss)"
      ],
      "execution_count": 10,
      "outputs": []
    },
    {
      "cell_type": "code",
      "metadata": {
        "colab": {
          "base_uri": "https://localhost:8080/"
        },
        "id": "Qh2y0LJTK24j",
        "outputId": "25032d04-a5c5-4b16-eb53-473e922c4fbb"
      },
      "source": [
        "# Reset the graph\n",
        "tf.reset_default_graph()\n",
        "\n",
        "# Instantiate the DQNetwork\n",
        "DQNetwork = DQNetwork(state_size, action_size, learning_rate)\n",
        "\n",
        "#tf.compat.v1.variable_scope()"
      ],
      "execution_count": 11,
      "outputs": [
        {
          "output_type": "stream",
          "text": [
            "WARNING:tensorflow:\n",
            "The TensorFlow contrib module will not be included in TensorFlow 2.0.\n",
            "For more information, please see:\n",
            "  * https://github.com/tensorflow/community/blob/master/rfcs/20180907-contrib-sunset.md\n",
            "  * https://github.com/tensorflow/addons\n",
            "  * https://github.com/tensorflow/io (for I/O related ops)\n",
            "If you depend on functionality not listed there, please file an issue.\n",
            "\n",
            "WARNING:tensorflow:From <ipython-input-10-110eed722f22>:29: conv2d (from tensorflow.python.layers.convolutional) is deprecated and will be removed in a future version.\n",
            "Instructions for updating:\n",
            "Use `tf.keras.layers.Conv2D` instead.\n",
            "WARNING:tensorflow:From /tensorflow-1.15.2/python3.6/tensorflow_core/python/layers/convolutional.py:424: Layer.apply (from tensorflow.python.keras.engine.base_layer) is deprecated and will be removed in a future version.\n",
            "Instructions for updating:\n",
            "Please use `layer.__call__` method instead.\n",
            "WARNING:tensorflow:From /tensorflow-1.15.2/python3.6/tensorflow_core/contrib/layers/python/layers/layers.py:1634: flatten (from tensorflow.python.layers.core) is deprecated and will be removed in a future version.\n",
            "Instructions for updating:\n",
            "Use keras.layers.flatten instead.\n",
            "WARNING:tensorflow:From <ipython-input-10-110eed722f22>:69: dense (from tensorflow.python.layers.core) is deprecated and will be removed in a future version.\n",
            "Instructions for updating:\n",
            "Use keras.layers.Dense instead.\n"
          ],
          "name": "stdout"
        }
      ]
    },
    {
      "cell_type": "markdown",
      "metadata": {
        "id": "GSHPTCVUNpfJ"
      },
      "source": [
        "### Experience Replay method. \n",
        "\n",
        "Creates a deque (double ended queue), which is a data type that removes the oldest element each time that you add a new element."
      ]
    },
    {
      "cell_type": "code",
      "metadata": {
        "id": "1gYlG8aOMByh"
      },
      "source": [
        "class Memory():\n",
        "    def __init__(self, max_size):\n",
        "        self.buffer = deque(maxlen = max_size)\n",
        "    \n",
        "    def add(self, experience):\n",
        "        self.buffer.append(experience)\n",
        "    \n",
        "    def sample(self, batch_size):\n",
        "        buffer_size = len(self.buffer)\n",
        "        index = np.random.choice(np.arange(buffer_size),\n",
        "                                size = batch_size,\n",
        "                                replace = False)\n",
        "        \n",
        "        return [self.buffer[i] for i in index]"
      ],
      "execution_count": 12,
      "outputs": []
    },
    {
      "cell_type": "markdown",
      "metadata": {
        "id": "S7R--ra9N4Pk"
      },
      "source": [
        "#### Dealing with the empty memory problem: pre-populating memory by taking random actions and storing the experience (state, action, reward, next_state)."
      ]
    },
    {
      "cell_type": "code",
      "metadata": {
        "id": "392sX__lNgRR"
      },
      "source": [
        "# Instantiate memory\n",
        "memory = Memory(max_size = memory_size)\n",
        "for i in range(pretrain_length):\n",
        "    # If it's the first step\n",
        "    if i == 0:\n",
        "        state = env.reset()\n",
        "        \n",
        "        state, stacked_frames = stack_frames(stacked_frames, state, True)\n",
        "        \n",
        "    # Get the next_state, the rewards, done by taking a random action\n",
        "    choice = random.randint(1,len(possible_actions))-1\n",
        "    action = possible_actions[choice]\n",
        "    next_state, reward, done, _ = env.step(action)\n",
        "    \n",
        "    #env.render()\n",
        "    \n",
        "    # Stack the frames\n",
        "    next_state, stacked_frames = stack_frames(stacked_frames, next_state, False)\n",
        "    \n",
        "    \n",
        "    # If the episode is finished (we're dead 3x)\n",
        "    if done:\n",
        "        # We finished the episode\n",
        "        next_state = np.zeros(state.shape)\n",
        "        \n",
        "        # Add experience to memory\n",
        "        memory.add((state, action, reward, next_state, done))\n",
        "        \n",
        "        # Start a new episode\n",
        "        state = env.reset()\n",
        "        \n",
        "        # Stack the frames\n",
        "        state, stacked_frames = stack_frames(stacked_frames, state, True)\n",
        "        \n",
        "    else:\n",
        "        # Add experience to memory\n",
        "        memory.add((state, action, reward, next_state, done))\n",
        "        \n",
        "        # Our new state is now the next_state\n",
        "        state = next_state\n"
      ],
      "execution_count": 13,
      "outputs": []
    },
    {
      "cell_type": "code",
      "metadata": {
        "id": "wiQmDJX0R8NL"
      },
      "source": [
        "# Setup TensorBoard Writer\n",
        "writer = tf.summary.FileWriter(\"/tensorboard/dqn/1\")\n",
        "\n",
        "## Losses\n",
        "tf.summary.scalar(\"Loss\", DQNetwork.loss)\n",
        "\n",
        "write_op = tf.summary.merge_all()"
      ],
      "execution_count": 14,
      "outputs": []
    },
    {
      "cell_type": "code",
      "metadata": {
        "id": "vpKPzLbJNgUf"
      },
      "source": [
        "\"\"\"\n",
        "This function will do the part\n",
        "With ϵϵ select a random action atat, otherwise select at=argmaxaQ(st,a)\n",
        "\"\"\"\n",
        "def predict_action(explore_start, explore_stop, decay_rate, decay_step, state, actions):\n",
        "    ## EPSILON GREEDY STRATEGY\n",
        "    # Choose action a from state s using epsilon greedy.\n",
        "    ## First we randomize a number\n",
        "    exp_exp_tradeoff = np.random.rand()\n",
        "\n",
        "    # Here we'll use an improved version of our epsilon greedy strategy used in Q-learning notebook\n",
        "    explore_probability = explore_stop + (explore_start - explore_stop) * np.exp(-decay_rate * decay_step)\n",
        "    \n",
        "    if (explore_probability > exp_exp_tradeoff):\n",
        "        # Make a random action (exploration)\n",
        "        choice = random.randint(1,len(possible_actions))-1\n",
        "        action = possible_actions[choice]\n",
        "        \n",
        "    else:\n",
        "        # Get action from Q-network (exploitation)\n",
        "        # Estimate the Qs values state\n",
        "        Qs = sess.run(DQNetwork.output, feed_dict = {DQNetwork.inputs_: state.reshape((1, *state.shape))})\n",
        "        \n",
        "        # Take the biggest Q value (= the best action)\n",
        "        choice = np.argmax(Qs)\n",
        "        action = possible_actions[choice]\n",
        "                \n",
        "                \n",
        "    return action, explore_probability"
      ],
      "execution_count": 15,
      "outputs": []
    },
    {
      "cell_type": "code",
      "metadata": {
        "colab": {
          "base_uri": "https://localhost:8080/"
        },
        "id": "YsKt8i4YOL0t",
        "outputId": "f275432c-b334-4769-fc90-eb21296db21b"
      },
      "source": [
        "# Saver will help us to save our model\n",
        "saver = tf.train.Saver()\n",
        "\n",
        "if training == True:\n",
        "    with tf.Session() as sess:\n",
        "        # Initialize the variables\n",
        "        sess.run(tf.global_variables_initializer())\n",
        "\n",
        "        # Initialize the decay rate (that will use to reduce epsilon) \n",
        "        decay_step = 0\n",
        "        \n",
        "        for episode in range(total_episodes):\n",
        "            # Set step to 0\n",
        "            step = 0\n",
        "            \n",
        "            # Initialize the rewards of the episode\n",
        "            episode_rewards = []\n",
        "            \n",
        "            # Make a new episode and observe the first state\n",
        "            state = env.reset()\n",
        "            \n",
        "            # Remember that stack frame function also call our preprocess function.\n",
        "            state, stacked_frames = stack_frames(stacked_frames, state, True)\n",
        "            \n",
        "            while step < max_steps:\n",
        "                step += 1\n",
        "                \n",
        "                #Increase decay_step\n",
        "                decay_step +=1\n",
        "                \n",
        "                # Predict the action to take and take it\n",
        "                action, explore_probability = predict_action(explore_start, explore_stop, decay_rate, decay_step, state, possible_actions)\n",
        "                \n",
        "                #Perform the action and get the next_state, reward, and done information\n",
        "                next_state, reward, done, _ = env.step(action)\n",
        "                \n",
        "                if episode_render:\n",
        "                    env.render()\n",
        "                \n",
        "                # Add the reward to total reward\n",
        "                episode_rewards.append(reward)\n",
        "                \n",
        "                # If the game is finished\n",
        "                if done:\n",
        "                    # The episode ends so no next state\n",
        "                    next_state = np.zeros((110,84), dtype=np.int)\n",
        "                    \n",
        "                    next_state, stacked_frames = stack_frames(stacked_frames, next_state, False)\n",
        "\n",
        "                    # Set step = max_steps to end the episode\n",
        "                    step = max_steps\n",
        "\n",
        "                    # Get the total reward of the episode\n",
        "                    total_reward = np.sum(episode_rewards)\n",
        "\n",
        "                    print('Episode: {}'.format(episode),\n",
        "                                  'Total reward: {}'.format(total_reward),\n",
        "                                  'Explore P: {:.4f}'.format(explore_probability),\n",
        "                                'Training Loss {:.4f}'.format(loss))\n",
        "\n",
        "                    #rewards_list.append((episode, total_reward))\n",
        "\n",
        "                    # Store transition <st,at,rt+1,st+1> in memory D\n",
        "                    memory.add((state, action, reward, next_state, done))\n",
        "\n",
        "                else:\n",
        "                    # Stack the frame of the next_state\n",
        "                    next_state, stacked_frames = stack_frames(stacked_frames, next_state, False)\n",
        "                \n",
        "                    # Add experience to memory\n",
        "                    memory.add((state, action, reward, next_state, done))\n",
        "\n",
        "                    # st+1 is now our current state\n",
        "                    state = next_state\n",
        "                    \n",
        "\n",
        "                ### LEARNING PART            \n",
        "                # Obtain random mini-batch from memory\n",
        "                batch = memory.sample(batch_size)\n",
        "                states_mb = np.array([each[0] for each in batch], ndmin=3)\n",
        "                actions_mb = np.array([each[1] for each in batch])\n",
        "                rewards_mb = np.array([each[2] for each in batch]) \n",
        "                next_states_mb = np.array([each[3] for each in batch], ndmin=3)\n",
        "                dones_mb = np.array([each[4] for each in batch])\n",
        "\n",
        "                target_Qs_batch = []\n",
        "\n",
        "                # Get Q values for next_state \n",
        "                Qs_next_state = sess.run(DQNetwork.output, feed_dict = {DQNetwork.inputs_: next_states_mb})\n",
        "                \n",
        "                # Set Q_target = r if the episode ends at s+1, otherwise set Q_target = r + gamma*maxQ(s', a')\n",
        "                for i in range(0, len(batch)):\n",
        "                    terminal = dones_mb[i]\n",
        "\n",
        "                    # If we are in a terminal state, only equals reward\n",
        "                    if terminal:\n",
        "                        target_Qs_batch.append(rewards_mb[i])\n",
        "                        \n",
        "                    else:\n",
        "                        target = rewards_mb[i] + gamma * np.max(Qs_next_state[i])\n",
        "                        target_Qs_batch.append(target)\n",
        "                        \n",
        "\n",
        "                targets_mb = np.array([each for each in target_Qs_batch])\n",
        "\n",
        "                loss, _ = sess.run([DQNetwork.loss, DQNetwork.optimizer],\n",
        "                                        feed_dict={DQNetwork.inputs_: states_mb,\n",
        "                                                   DQNetwork.target_Q: targets_mb,\n",
        "                                                   DQNetwork.actions_: actions_mb})\n",
        "                # Write TF Summaries\n",
        "                summary = sess.run(write_op, feed_dict={DQNetwork.inputs_: states_mb,\n",
        "                                                       DQNetwork.target_Q: targets_mb,\n",
        "                                                       DQNetwork.actions_: actions_mb})\n",
        "                writer.add_summary(summary, episode)\n",
        "                writer.flush()\n",
        "\n",
        "            # Save model every 5 episodes\n",
        "            if episode % 5 == 0:\n",
        "                save_path = saver.save(sess, \"./models/model.ckpt\")\n",
        "                print(\"Model Saved\")"
      ],
      "execution_count": null,
      "outputs": [
        {
          "output_type": "stream",
          "text": [
            "Episode: 0 Total reward: 315.0 Explore P: 0.9737 Training Loss 0.0214\n",
            "Model Saved\n",
            "Episode: 1 Total reward: 135.0 Explore P: 0.9527 Training Loss 0.3929\n",
            "Episode: 2 Total reward: 110.0 Explore P: 0.9319 Training Loss 0.0088\n",
            "Episode: 3 Total reward: 180.0 Explore P: 0.9218 Training Loss 6.2408\n",
            "Episode: 4 Total reward: 340.0 Explore P: 0.8928 Training Loss 1.5525\n",
            "Episode: 5 Total reward: 180.0 Explore P: 0.8719 Training Loss 0.0504\n",
            "Model Saved\n",
            "Episode: 6 Total reward: 210.0 Explore P: 0.8514 Training Loss 0.0007\n",
            "Episode: 7 Total reward: 155.0 Explore P: 0.8350 Training Loss 0.0148\n",
            "Episode: 8 Total reward: 210.0 Explore P: 0.8155 Training Loss 0.0064\n",
            "Episode: 9 Total reward: 565.0 Explore P: 0.7872 Training Loss 0.0016\n",
            "Episode: 10 Total reward: 355.0 Explore P: 0.7704 Training Loss 0.1250\n",
            "Model Saved\n",
            "Episode: 11 Total reward: 265.0 Explore P: 0.7497 Training Loss 0.0081\n",
            "Episode: 12 Total reward: 415.0 Explore P: 0.7306 Training Loss 13.9589\n"
          ],
          "name": "stdout"
        }
      ]
    },
    {
      "cell_type": "code",
      "metadata": {
        "colab": {
          "base_uri": "https://localhost:8080/",
          "height": 375
        },
        "id": "o7ZRmxsNOPag",
        "outputId": "45592e96-19a8-4b86-a9b3-bcc6d83db1db"
      },
      "source": [
        "with tf.Session() as sess:\n",
        "    total_test_rewards = []\n",
        "    \n",
        "    # Load the model\n",
        "    saver.restore(sess, \"./models/model.ckpt\")\n",
        "    \n",
        "    for episode in range(1):\n",
        "        total_rewards = 0\n",
        "        \n",
        "        state = env.reset()\n",
        "        state, stacked_frames = stack_frames(stacked_frames, state, True)\n",
        "        \n",
        "        print(\"****************************************************\")\n",
        "        print(\"EPISODE \", episode)\n",
        "        \n",
        "        while True:\n",
        "            # Reshape the state\n",
        "            state = state.reshape((1, *state_size))\n",
        "            # Get action from Q-network \n",
        "            # Estimate the Qs values state\n",
        "            Qs = sess.run(DQNetwork.output, feed_dict = {DQNetwork.inputs_: state})\n",
        "            \n",
        "            # Take the biggest Q value (= the best action)\n",
        "            choice = np.argmax(Qs)\n",
        "            action = possible_actions[choice]\n",
        "            \n",
        "            #Perform the action and get the next_state, reward, and done information\n",
        "            next_state, reward, done, _ = env.step(action)\n",
        "            env.render()\n",
        "            \n",
        "            total_rewards += reward\n",
        "\n",
        "            if done:\n",
        "                print (\"Score\", total_rewards)\n",
        "                total_test_rewards.append(total_rewards)\n",
        "                break\n",
        "                \n",
        "                \n",
        "            next_state, stacked_frames = stack_frames(stacked_frames, next_state, False)\n",
        "            state = next_state\n",
        "            \n",
        "    env.close()"
      ],
      "execution_count": 18,
      "outputs": [
        {
          "output_type": "error",
          "ename": "NotFoundError",
          "evalue": "ignored",
          "traceback": [
            "\u001b[0;31m---------------------------------------------------------------------------\u001b[0m",
            "\u001b[0;31mNotFoundError\u001b[0m                             Traceback (most recent call last)",
            "\u001b[0;32m<ipython-input-18-84a6a9dfedc2>\u001b[0m in \u001b[0;36m<module>\u001b[0;34m()\u001b[0m\n\u001b[1;32m      3\u001b[0m \u001b[0;34m\u001b[0m\u001b[0m\n\u001b[1;32m      4\u001b[0m     \u001b[0;31m# Load the model\u001b[0m\u001b[0;34m\u001b[0m\u001b[0;34m\u001b[0m\u001b[0;34m\u001b[0m\u001b[0m\n\u001b[0;32m----> 5\u001b[0;31m     \u001b[0msaver\u001b[0m\u001b[0;34m.\u001b[0m\u001b[0mrestore\u001b[0m\u001b[0;34m(\u001b[0m\u001b[0msess\u001b[0m\u001b[0;34m,\u001b[0m \u001b[0;34m\"./models/model.ckpt\"\u001b[0m\u001b[0;34m)\u001b[0m\u001b[0;34m\u001b[0m\u001b[0;34m\u001b[0m\u001b[0m\n\u001b[0m\u001b[1;32m      6\u001b[0m \u001b[0;34m\u001b[0m\u001b[0m\n\u001b[1;32m      7\u001b[0m     \u001b[0;32mfor\u001b[0m \u001b[0mepisode\u001b[0m \u001b[0;32min\u001b[0m \u001b[0mrange\u001b[0m\u001b[0;34m(\u001b[0m\u001b[0;36m1\u001b[0m\u001b[0;34m)\u001b[0m\u001b[0;34m:\u001b[0m\u001b[0;34m\u001b[0m\u001b[0;34m\u001b[0m\u001b[0m\n",
            "\u001b[0;32m/tensorflow-1.15.2/python3.6/tensorflow_core/python/training/saver.py\u001b[0m in \u001b[0;36mrestore\u001b[0;34m(self, sess, save_path)\u001b[0m\n\u001b[1;32m   1278\u001b[0m \u001b[0;34m\u001b[0m\u001b[0m\n\u001b[1;32m   1279\u001b[0m     \u001b[0mcheckpoint_prefix\u001b[0m \u001b[0;34m=\u001b[0m \u001b[0mcompat\u001b[0m\u001b[0;34m.\u001b[0m\u001b[0mas_text\u001b[0m\u001b[0;34m(\u001b[0m\u001b[0msave_path\u001b[0m\u001b[0;34m)\u001b[0m\u001b[0;34m\u001b[0m\u001b[0;34m\u001b[0m\u001b[0m\n\u001b[0;32m-> 1280\u001b[0;31m     \u001b[0;32mif\u001b[0m \u001b[0;32mnot\u001b[0m \u001b[0mcheckpoint_management\u001b[0m\u001b[0;34m.\u001b[0m\u001b[0mcheckpoint_exists_internal\u001b[0m\u001b[0;34m(\u001b[0m\u001b[0mcheckpoint_prefix\u001b[0m\u001b[0;34m)\u001b[0m\u001b[0;34m:\u001b[0m\u001b[0;34m\u001b[0m\u001b[0;34m\u001b[0m\u001b[0m\n\u001b[0m\u001b[1;32m   1281\u001b[0m       raise ValueError(\"The passed save_path is not a valid checkpoint: \" +\n\u001b[1;32m   1282\u001b[0m                        checkpoint_prefix)\n",
            "\u001b[0;32m/tensorflow-1.15.2/python3.6/tensorflow_core/python/training/checkpoint_management.py\u001b[0m in \u001b[0;36mcheckpoint_exists_internal\u001b[0;34m(checkpoint_prefix)\u001b[0m\n\u001b[1;32m    364\u001b[0m   pathname = _prefix_to_checkpoint_path(checkpoint_prefix,\n\u001b[1;32m    365\u001b[0m                                         saver_pb2.SaverDef.V2)\n\u001b[0;32m--> 366\u001b[0;31m   \u001b[0;32mif\u001b[0m \u001b[0mfile_io\u001b[0m\u001b[0;34m.\u001b[0m\u001b[0mget_matching_files\u001b[0m\u001b[0;34m(\u001b[0m\u001b[0mpathname\u001b[0m\u001b[0;34m)\u001b[0m\u001b[0;34m:\u001b[0m\u001b[0;34m\u001b[0m\u001b[0;34m\u001b[0m\u001b[0m\n\u001b[0m\u001b[1;32m    367\u001b[0m     \u001b[0;32mreturn\u001b[0m \u001b[0;32mTrue\u001b[0m\u001b[0;34m\u001b[0m\u001b[0;34m\u001b[0m\u001b[0m\n\u001b[1;32m    368\u001b[0m   \u001b[0;32melif\u001b[0m \u001b[0mfile_io\u001b[0m\u001b[0;34m.\u001b[0m\u001b[0mget_matching_files\u001b[0m\u001b[0;34m(\u001b[0m\u001b[0mcheckpoint_prefix\u001b[0m\u001b[0;34m)\u001b[0m\u001b[0;34m:\u001b[0m\u001b[0;34m\u001b[0m\u001b[0;34m\u001b[0m\u001b[0m\n",
            "\u001b[0;32m/tensorflow-1.15.2/python3.6/tensorflow_core/python/lib/io/file_io.py\u001b[0m in \u001b[0;36mget_matching_files\u001b[0;34m(filename)\u001b[0m\n\u001b[1;32m    361\u001b[0m     \u001b[0merrors\u001b[0m\u001b[0;34m.\u001b[0m\u001b[0mOpError\u001b[0m\u001b[0;34m:\u001b[0m \u001b[0mIf\u001b[0m \u001b[0mthere\u001b[0m \u001b[0mare\u001b[0m \u001b[0mfilesystem\u001b[0m \u001b[0;34m/\u001b[0m \u001b[0mdirectory\u001b[0m \u001b[0mlisting\u001b[0m \u001b[0merrors\u001b[0m\u001b[0;34m.\u001b[0m\u001b[0;34m\u001b[0m\u001b[0;34m\u001b[0m\u001b[0m\n\u001b[1;32m    362\u001b[0m   \"\"\"\n\u001b[0;32m--> 363\u001b[0;31m   \u001b[0;32mreturn\u001b[0m \u001b[0mget_matching_files_v2\u001b[0m\u001b[0;34m(\u001b[0m\u001b[0mfilename\u001b[0m\u001b[0;34m)\u001b[0m\u001b[0;34m\u001b[0m\u001b[0;34m\u001b[0m\u001b[0m\n\u001b[0m\u001b[1;32m    364\u001b[0m \u001b[0;34m\u001b[0m\u001b[0m\n\u001b[1;32m    365\u001b[0m \u001b[0;34m\u001b[0m\u001b[0m\n",
            "\u001b[0;32m/tensorflow-1.15.2/python3.6/tensorflow_core/python/lib/io/file_io.py\u001b[0m in \u001b[0;36mget_matching_files_v2\u001b[0;34m(pattern)\u001b[0m\n\u001b[1;32m    382\u001b[0m         \u001b[0mcompat\u001b[0m\u001b[0;34m.\u001b[0m\u001b[0mas_str_any\u001b[0m\u001b[0;34m(\u001b[0m\u001b[0mmatching_filename\u001b[0m\u001b[0;34m)\u001b[0m\u001b[0;34m\u001b[0m\u001b[0;34m\u001b[0m\u001b[0m\n\u001b[1;32m    383\u001b[0m         for matching_filename in pywrap_tensorflow.GetMatchingFiles(\n\u001b[0;32m--> 384\u001b[0;31m             compat.as_bytes(pattern))\n\u001b[0m\u001b[1;32m    385\u001b[0m     ]\n\u001b[1;32m    386\u001b[0m   \u001b[0;32melse\u001b[0m\u001b[0;34m:\u001b[0m\u001b[0;34m\u001b[0m\u001b[0;34m\u001b[0m\u001b[0m\n",
            "\u001b[0;31mNotFoundError\u001b[0m: ./models; No such file or directory"
          ]
        }
      ]
    },
    {
      "cell_type": "code",
      "metadata": {
        "id": "yAxZu9_2XZmO"
      },
      "source": [
        ""
      ],
      "execution_count": null,
      "outputs": []
    }
  ]
}